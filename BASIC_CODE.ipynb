{
  "nbformat": 4,
  "nbformat_minor": 0,
  "metadata": {
    "colab": {
      "provenance": []
    },
    "kernelspec": {
      "name": "python3",
      "display_name": "Python 3"
    },
    "language_info": {
      "name": "python"
    }
  },
  "cells": [
    {
      "cell_type": "markdown",
      "source": [
        "**AUTOMORPHIC NUMBER** :  the number that is equal to the square of its last digit (Eg: 5^2 = 2 **5**)"
      ],
      "metadata": {
        "id": "GfGZV3E50S5P"
      }
    },
    {
      "cell_type": "code",
      "execution_count": null,
      "metadata": {
        "colab": {
          "base_uri": "https://localhost:8080/"
        },
        "id": "NTRmLmQP0MEA",
        "outputId": "c3406d76-d1e3-4cc7-fed2-28dfcbcf58e4"
      },
      "outputs": [
        {
          "output_type": "stream",
          "name": "stdout",
          "text": [
            "6\n",
            "AUTOMORPHIC\n"
          ]
        }
      ],
      "source": [
        "n = int(input())\n",
        "m= n*n\n",
        "num = m%10\n",
        "if num==n:\n",
        "  print(\"AUTOMORPHIC\")\n",
        "else:\n",
        "  print(\"NOT AUTOMORPHIC\")"
      ]
    },
    {
      "cell_type": "markdown",
      "source": [
        "**ABUNDANT NUMBER** : the number is greater than the sum of its multiples (excluding the number) (Eg: 12 = 1,2,3,4,6\n",
        "              sum = 1+2+3+4+6=16\n",
        "              **12>16**)"
      ],
      "metadata": {
        "id": "SpQbNC7Z2HMk"
      }
    },
    {
      "cell_type": "code",
      "source": [
        "n = int(input())\n",
        "sum = 0\n",
        "for i in range(1, n):\n",
        "  if n%i == 0:\n",
        "    sum += i\n",
        "    if sum>n:\n",
        "      print(\"ABUNDANT\")\n",
        "  else:\n",
        "    print(\"NOT ABUNDANT\")"
      ],
      "metadata": {
        "colab": {
          "base_uri": "https://localhost:8080/"
        },
        "id": "qOCyZ7Ro2SVb",
        "outputId": "975b690c-2e51-4ee6-e62e-2855d12122cf"
      },
      "execution_count": null,
      "outputs": [
        {
          "output_type": "stream",
          "name": "stdout",
          "text": [
            "12\n",
            "NOT ABUNDANT\n",
            "ABUNDANT\n",
            "NOT ABUNDANT\n",
            "NOT ABUNDANT\n",
            "NOT ABUNDANT\n",
            "NOT ABUNDANT\n",
            "NOT ABUNDANT\n"
          ]
        }
      ]
    },
    {
      "cell_type": "markdown",
      "source": [
        "**HARSHAD NUMBER** : the sum of number(12 = 1+2 = 3) must divide the actual number"
      ],
      "metadata": {
        "id": "h3IKMr5E5ZfH"
      }
    },
    {
      "cell_type": "code",
      "source": [
        "# Read input number\n",
        "n = int(input())\n",
        "\n",
        "# Store the original number for checking later\n",
        "original = n\n",
        "\n",
        "# Initialize sum to 0\n",
        "sum = 0\n",
        "\n",
        "# Calculate the sum of digits\n",
        "while n > 0:\n",
        "    rem = n % 10\n",
        "    sum += rem\n",
        "    n //= 10\n",
        "\n",
        "# Check if the original number is divisible by the sum of its digits\n",
        "if original % sum == 0:\n",
        "    print(\"HARSHAD\")\n",
        "else:\n",
        "    print(\"NOT HARSHAD\")\n"
      ],
      "metadata": {
        "id": "8M6gFttp5dDW",
        "colab": {
          "base_uri": "https://localhost:8080/"
        },
        "outputId": "1d76b1ac-5819-4f65-d581-1f8fa96672eb"
      },
      "execution_count": 17,
      "outputs": [
        {
          "output_type": "stream",
          "name": "stdout",
          "text": [
            "12\n",
            "HARSHAD\n"
          ]
        }
      ]
    },
    {
      "cell_type": "markdown",
      "source": [
        "**FRIEDNLY PAIR** : take 2 numbers, if the sum of the multiple of each number is divide by the same number and returns 1 (Eg: 6 (multiples = 1,2,3), 28(multiples= 1,2,4,7,14) sum = 1+2+3=6 then 6/6=**1**\n",
        "sum = 1+2+4+7+14=28 then 28/28= **1** )"
      ],
      "metadata": {
        "id": "UXoyRqO363vY"
      }
    },
    {
      "cell_type": "code",
      "source": [
        "n1 = int(input())\n",
        "n2 = int(input())\n",
        "sum1 = 0\n",
        "sum2 = 0\n",
        "for i in range(1, n1):\n",
        "  if n1%i == 0:\n",
        "    sum1 += i\n",
        "for j in range(1, n2):\n",
        "  if n2%j == 0:\n",
        "    sum2 += j\n",
        "if sum1//n1 == sum2//n2:\n",
        "  print(\"FRIENDLY PAIR\")\n",
        "else:\n",
        "  print(\"NOT FRIENDLY PAIR\")"
      ],
      "metadata": {
        "id": "cQwbtkSE68fq",
        "colab": {
          "base_uri": "https://localhost:8080/"
        },
        "outputId": "7f54729b-43b7-47a0-d27d-5757089748ee"
      },
      "execution_count": 15,
      "outputs": [
        {
          "output_type": "stream",
          "name": "stdout",
          "text": [
            "2\n",
            "22\n",
            "FRIENDLY PAIR\n"
          ]
        }
      ]
    },
    {
      "cell_type": "markdown",
      "source": [
        "**PERFECT SQUARE**: the squareroot of the number should be equal to the square of the number"
      ],
      "metadata": {
        "id": "Hit0zhi6-mfB"
      }
    },
    {
      "cell_type": "code",
      "source": [
        "import math\n",
        "\n",
        "n = int(input())\n",
        "\n",
        "# Compute the square root of n\n",
        "sqrt = math.isqrt(n)  # isqrt gives the integer square root\n",
        "\n",
        "# Check if the square of the integer square root equals n\n",
        "if sqrt * sqrt == n:\n",
        "    print(\"PERFECT SQUARE\")\n",
        "else:\n",
        "    print(\"NOT PERFECT SQUARE\")\n"
      ],
      "metadata": {
        "colab": {
          "base_uri": "https://localhost:8080/"
        },
        "id": "t37FMOo6-qwb",
        "outputId": "7396a188-8eec-440c-96dd-1112228586c9"
      },
      "execution_count": 22,
      "outputs": [
        {
          "output_type": "stream",
          "name": "stdout",
          "text": [
            "36\n",
            "PERFECT SQUARE\n"
          ]
        }
      ]
    }
  ]
}